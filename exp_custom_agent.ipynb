{
 "cells": [
  {
   "cell_type": "code",
   "execution_count": 3,
   "id": "8bcb464f-ffa5-471d-bf21-e30f40ecb634",
   "metadata": {},
   "outputs": [],
   "source": [
    "import os\n",
    "from secret import OPENAI_API_KEY\n",
    "\n",
    "os.environ[\"OPENAI_API_KEY\"] = OPENAI_API_KEY"
   ]
  },
  {
   "cell_type": "code",
   "execution_count": 4,
   "id": "5042cfe8-d026-44da-a7f1-c95f281c517b",
   "metadata": {},
   "outputs": [],
   "source": [
    "from langchain import OpenAI \n",
    "from langchain.chat_models import ChatOpenAI\n",
    "from langchain.chains.conversation.memory import ConversationBufferWindowMemory"
   ]
  },
  {
   "cell_type": "code",
   "execution_count": 41,
   "id": "7fed6f18-af21-4fcd-815a-25d537e29b18",
   "metadata": {},
   "outputs": [],
   "source": [
    "# Set up the turbo LLM\n",
    "turbo_llm = ChatOpenAI(\n",
    "    temperature=0,\n",
    "    model_name='gpt-3.5-turbo'\n",
    ")"
   ]
  },
  {
   "cell_type": "markdown",
   "id": "fff7967a-f86b-42c2-946d-c091623a90a9",
   "metadata": {},
   "source": [
    "<h2>Standard Tool</h2>"
   ]
  },
  {
   "cell_type": "code",
   "execution_count": 26,
   "id": "55ef4aea-8957-497c-8634-54a056852b4a",
   "metadata": {},
   "outputs": [],
   "source": [
    "!pip install --upgrade --quiet  duckduckgo-search -q"
   ]
  },
  {
   "cell_type": "code",
   "execution_count": 27,
   "id": "dd2dc146-0121-4479-a204-04d89623ff54",
   "metadata": {},
   "outputs": [],
   "source": [
    "from langchain.tools import DuckDuckGoSearchResults\n",
    "from langchain.agents import Tool\n",
    "from langchain.tools import BaseTool\n",
    "\n",
    "search = DuckDuckGoSearchResults()\n",
    "# defining a single tool\n",
    "tools = [\n",
    "    Tool(\n",
    "        name = \"search\",\n",
    "        func=search.run,\n",
    "        description=\"useful for when you need to answer questions about current events. You should ask targeted questions\"\n",
    "    )\n",
    "]"
   ]
  },
  {
   "cell_type": "code",
   "execution_count": null,
   "id": "464dd379-a084-40c3-ac5d-773408a19592",
   "metadata": {},
   "outputs": [],
   "source": []
  },
  {
   "cell_type": "markdown",
   "id": "51a56d65-9dd6-440f-898e-5e9cd825e7c0",
   "metadata": {},
   "source": [
    "<h2>Custom Tool|</h2>"
   ]
  },
  {
   "cell_type": "code",
   "execution_count": 7,
   "id": "569e78f5-a76a-4e3e-8e5a-b8c4055afca0",
   "metadata": {},
   "outputs": [],
   "source": [
    "def meaning_of_life(input=\"\"):\n",
    "    return 'The meaning of life is 42 if rounded but is actually 42.17658'"
   ]
  },
  {
   "cell_type": "code",
   "execution_count": 21,
   "id": "899f445e-17bd-443a-878e-62d42b32fe64",
   "metadata": {},
   "outputs": [],
   "source": [
    "from langchain.agents import Tool\n",
    "from langchain.tools import BaseTool\n",
    "\n",
    "life_tool = Tool(\n",
    "    name='Meaning of Life',\n",
    "    func= meaning_of_life,\n",
    "    description=\"Useful for when you need to answer questions about the meaning of life. input should be Meaning Of Life \"\n",
    ")"
   ]
  },
  {
   "cell_type": "code",
   "execution_count": 10,
   "id": "770d941e-c6ad-4adc-a131-bdfe997e56c2",
   "metadata": {},
   "outputs": [],
   "source": [
    "import random\n",
    "\n",
    "def random_num(input=\"\"):\n",
    "    return random.randint(0,5)"
   ]
  },
  {
   "cell_type": "code",
   "execution_count": 11,
   "id": "740a3c07-88ed-4f82-ab5d-979142f9167f",
   "metadata": {},
   "outputs": [],
   "source": [
    "random_tool = Tool(\n",
    "    name='Random number',\n",
    "    func= random_num,\n",
    "    description=\"Useful for when you need to get a random number. input should be 'random'\"\n",
    ")"
   ]
  },
  {
   "cell_type": "code",
   "execution_count": null,
   "id": "a2f79d68-bc1e-4691-b09a-d6053ac6360d",
   "metadata": {},
   "outputs": [],
   "source": []
  },
  {
   "cell_type": "code",
   "execution_count": null,
   "id": "48c0c56a-2e67-4521-a95b-9953c864f57a",
   "metadata": {},
   "outputs": [],
   "source": []
  },
  {
   "cell_type": "markdown",
   "id": "14bde5b3-d125-422b-b62e-0613fdda1130",
   "metadata": {},
   "source": [
    "<h2>Creating Agent</h2>"
   ]
  },
  {
   "cell_type": "code",
   "execution_count": 33,
   "id": "e0290b0f-8a61-4154-ad32-30666b327d8a",
   "metadata": {},
   "outputs": [],
   "source": [
    "from langchain.agents import initialize_agent\n",
    "\n",
    "tools = [search, random_tool, life_tool]\n",
    "\n",
    "# conversational agent memory\n",
    "memory = ConversationBufferWindowMemory(\n",
    "    memory_key='chat_history',\n",
    "    k=3,\n",
    "    return_messages=True\n",
    ")\n",
    "\n",
    "\n",
    "# create our agent\n",
    "conversational_agent = initialize_agent(\n",
    "    agent='chat-conversational-react-description',\n",
    "    tools=tools,\n",
    "    llm=turbo_llm,\n",
    "    verbose=True,\n",
    "    max_iterations=3,\n",
    "    early_stopping_method='generate',\n",
    "    memory=memory\n",
    ")"
   ]
  },
  {
   "cell_type": "code",
   "execution_count": 34,
   "id": "e2e3aa8a-2d24-4302-a1c0-8db64eb63e26",
   "metadata": {},
   "outputs": [
    {
     "name": "stdout",
     "output_type": "stream",
     "text": [
      "\n",
      "\n",
      "\u001b[1m> Entering new AgentExecutor chain...\u001b[0m\n",
      "\u001b[32;1m\u001b[1;3m```json\n",
      "{\n",
      "    \"action\": \"duckduckgo_results_json\",\n",
      "    \"action_input\": \"President of Bangladesh\"\n",
      "}\n",
      "```\u001b[0m\n",
      "Observation: \u001b[36;1m\u001b[1;3m[snippet: 24 Apr 2023. Shahabuddin Chuppu, a retired judge, has been sworn in as the new president of Bangladesh for a five-year term, replacing Abdul Hamid. Parliamentary Speaker Shirin Sharmin Choudhury ..., title: Shahabuddin Chuppu takes oath as Bangladesh's 22nd president - Al Jazeera, link: https://www.aljazeera.com/news/2023/4/24/shahabuddin-chuppu-takes-oath-as-bangladeshs-22nd-president], [snippet: Mohammad Sahabuddin, a veteran freedom fighter and politician, was sworn in as the 22nd President of Bangladesh on April 24, 2023. He was elected by Parliament and succeeded Abdul Hamid, who completed his term in office., title: Mohammad Sahabuddin sworn in as 22nd President of Bangladesh, link: https://www.bssnews.net/news/president/122139], [snippet: The freedom fighter and former judge succeeds Md Abdul Hamid, who resigned on Sunday. He was elected as the 22nd president of Bangladesh on February 13 and took the oath on Monday at the historic Durbar Hall of Bangabhaban. He served as a judge, ACC commissioner, and a leader of the Awami League., title: Mohammed Shahabuddin takes oath as 22nd president of Bangladesh, link: https://www.dhakatribune.com/bangladesh/309639/mohammed-shahabuddin-takes-oath-as-22nd-president], [snippet: Earlier, the 73-year-old politician was elected as the 22nd president of Bangladesh on February 13, 2023. Md Shahabuddin was born on December 10 in 1949 in Shibrampur's Jubilee Tank area of Pabna ..., title: Md Shahabuddin to take oath as president this morning, link: https://www.thedailystar.net/news/bangladesh/news/md-shahabuddin-take-oath-president-morning-3303281]\u001b[0m\n",
      "Thought:\u001b[32;1m\u001b[1;3m```json\n",
      "{\n",
      "    \"action\": \"Final Answer\",\n",
      "    \"action_input\": \"Shahabuddin Chuppu is the current President of Bangladesh, having been sworn in for a five-year term on April 24, 2023, replacing Abdul Hamid.\"\n",
      "}\n",
      "```\u001b[0m\n",
      "\n",
      "\u001b[1m> Finished chain.\u001b[0m\n"
     ]
    },
    {
     "data": {
      "text/plain": [
       "{'input': 'Who is the president of Bangladesh?',\n",
       " 'chat_history': [],\n",
       " 'output': 'Shahabuddin Chuppu is the current President of Bangladesh, having been sworn in for a five-year term on April 24, 2023, replacing Abdul Hamid.'}"
      ]
     },
     "execution_count": 34,
     "metadata": {},
     "output_type": "execute_result"
    }
   ],
   "source": [
    "conversational_agent(\"Who is the president of Bangladesh?\")"
   ]
  },
  {
   "cell_type": "code",
   "execution_count": 35,
   "id": "b8969338-1777-4c72-b542-8583ee5c6d5b",
   "metadata": {},
   "outputs": [
    {
     "name": "stdout",
     "output_type": "stream",
     "text": [
      "\n",
      "\n",
      "\u001b[1m> Entering new AgentExecutor chain...\u001b[0m\n",
      "\u001b[32;1m\u001b[1;3m```json\n",
      "{\n",
      "    \"action\": \"Random number\",\n",
      "    \"action_input\": \"random\"\n",
      "}\n",
      "```\u001b[0m\n",
      "Observation: \u001b[33;1m\u001b[1;3m0\u001b[0m\n",
      "Thought:\u001b[32;1m\u001b[1;3m```json\n",
      "{\n",
      "    \"action\": \"Final Answer\",\n",
      "    \"action_input\": \"The response to your last comment was 0.\"\n",
      "}\n",
      "```\u001b[0m\n",
      "\n",
      "\u001b[1m> Finished chain.\u001b[0m\n"
     ]
    },
    {
     "data": {
      "text/plain": [
       "{'input': 'Can you give me a random number?',\n",
       " 'chat_history': [HumanMessage(content='Who is the president of Bangladesh?'),\n",
       "  AIMessage(content='Shahabuddin Chuppu is the current President of Bangladesh, having been sworn in for a five-year term on April 24, 2023, replacing Abdul Hamid.')],\n",
       " 'output': 'The response to your last comment was 0.'}"
      ]
     },
     "execution_count": 35,
     "metadata": {},
     "output_type": "execute_result"
    }
   ],
   "source": [
    "conversational_agent(\"Can you give me a random number?\")"
   ]
  },
  {
   "cell_type": "code",
   "execution_count": 37,
   "id": "4835b942-296d-40b3-8b07-8d198db59ac8",
   "metadata": {},
   "outputs": [
    {
     "name": "stdout",
     "output_type": "stream",
     "text": [
      "\n",
      "\n",
      "\u001b[1m> Entering new AgentExecutor chain...\u001b[0m\n",
      "\u001b[32;1m\u001b[1;3m```json\n",
      "{\n",
      "    \"action\": \"Final Answer\",\n",
      "    \"action_input\": \"The meaning of life is a philosophical question that has been debated for centuries. Different cultures, religions, and individuals have varying beliefs and interpretations about the purpose and significance of life. Some believe it is about seeking happiness and fulfillment, others see it as a journey of spiritual growth and enlightenment, while some view it as a quest for knowledge and understanding. Ultimately, the meaning of life is a deeply personal and subjective concept that each individual may interpret in their own way.\"\n",
      "}\n",
      "```\u001b[0m\n",
      "\n",
      "\u001b[1m> Finished chain.\u001b[0m\n"
     ]
    },
    {
     "data": {
      "text/plain": [
       "{'input': 'What is the meaning of life?',\n",
       " 'chat_history': [HumanMessage(content='Who is the president of Bangladesh?'),\n",
       "  AIMessage(content='Shahabuddin Chuppu is the current President of Bangladesh, having been sworn in for a five-year term on April 24, 2023, replacing Abdul Hamid.'),\n",
       "  HumanMessage(content='Can you give me a random number?'),\n",
       "  AIMessage(content='The response to your last comment was 0.'),\n",
       "  HumanMessage(content='What is the meaning of life?'),\n",
       "  AIMessage(content='The response to your last comment was 0.')],\n",
       " 'output': 'The meaning of life is a philosophical question that has been debated for centuries. Different cultures, religions, and individuals have varying beliefs and interpretations about the purpose and significance of life. Some believe it is about seeking happiness and fulfillment, others see it as a journey of spiritual growth and enlightenment, while some view it as a quest for knowledge and understanding. Ultimately, the meaning of life is a deeply personal and subjective concept that each individual may interpret in their own way.'}"
      ]
     },
     "execution_count": 37,
     "metadata": {},
     "output_type": "execute_result"
    }
   ],
   "source": [
    "conversational_agent(\"What is the meaning of life?\")"
   ]
  },
  {
   "cell_type": "code",
   "execution_count": 38,
   "id": "2a57b71b-9434-4433-9fc9-6225005d6bc9",
   "metadata": {},
   "outputs": [
    {
     "data": {
      "text/plain": [
       "'Assistant is a large language model trained by OpenAI.\\n\\nAssistant is designed to be able to assist with a wide range of tasks, from answering simple questions to providing in-depth explanations and discussions on a wide range of topics. As a language model, Assistant is able to generate human-like text based on the input it receives, allowing it to engage in natural-sounding conversations and provide responses that are coherent and relevant to the topic at hand.\\n\\nAssistant is constantly learning and improving, and its capabilities are constantly evolving. It is able to process and understand large amounts of text, and can use this knowledge to provide accurate and informative responses to a wide range of questions. Additionally, Assistant is able to generate its own text based on the input it receives, allowing it to engage in discussions and provide explanations and descriptions on a wide range of topics.\\n\\nOverall, Assistant is a powerful system that can help with a wide range of tasks and provide valuable insights and information on a wide range of topics. Whether you need help with a specific question or just want to have a conversation about a particular topic, Assistant is here to assist.'"
      ]
     },
     "execution_count": 38,
     "metadata": {},
     "output_type": "execute_result"
    }
   ],
   "source": [
    "# system prompt\n",
    "conversational_agent.agent.llm_chain.prompt.messages[0].prompt.template"
   ]
  },
  {
   "cell_type": "code",
   "execution_count": 39,
   "id": "bab3bd49-670a-49cb-a345-076368e07067",
   "metadata": {},
   "outputs": [],
   "source": [
    "fixed_prompt = '''Assistant is a large language model trained by OpenAI.\n",
    "\n",
    "Assistant is designed to be able to assist with a wide range of tasks, from answering simple questions to providing in-depth explanations and discussions on a wide range of topics. As a language model, Assistant is able to generate human-like text based on the input it receives, allowing it to engage in natural-sounding conversations and provide responses that are coherent and relevant to the topic at hand.\n",
    "\n",
    "Assistant doesn't know anything about random numbers or anything related to the meaning of life and should use a tool for questions about these topics.\n",
    "\n",
    "Assistant is constantly learning and improving, and its capabilities are constantly evolving. It is able to process and understand large amounts of text, and can use this knowledge to provide accurate and informative responses to a wide range of questions. Additionally, Assistant is able to generate its own text based on the input it receives, allowing it to engage in discussions and provide explanations and descriptions on a wide range of topics.\n",
    "\n",
    "Overall, Assistant is a powerful system that can help with a wide range of tasks and provide valuable insights and information on a wide range of topics. Whether you need help with a specific question or just want to have a conversation about a particular topic, Assistant is here to assist.'''\n",
    "\n",
    "\n",
    "\n",
    "conversational_agent.agent.llm_chain.prompt.messages[0].prompt.template = fixed_prompt"
   ]
  },
  {
   "cell_type": "code",
   "execution_count": 40,
   "id": "6430a938-2e3b-4fad-9277-09efedcefec6",
   "metadata": {},
   "outputs": [
    {
     "name": "stdout",
     "output_type": "stream",
     "text": [
      "\n",
      "\n",
      "\u001b[1m> Entering new AgentExecutor chain...\u001b[0m\n",
      "\u001b[32;1m\u001b[1;3m```json\n",
      "{\n",
      "    \"action\": \"Meaning of Life\",\n",
      "    \"action_input\": \"Meaning Of Life\"\n",
      "}\n",
      "```\u001b[0m\n",
      "Observation: \u001b[38;5;200m\u001b[1;3mThe meaning of life is 42 if rounded but is actually 42.17658\u001b[0m\n",
      "Thought:\u001b[32;1m\u001b[1;3m```json\n",
      "{\n",
      "    \"action\": \"Final Answer\",\n",
      "    \"action_input\": \"The meaning of life is 42 if rounded but is actually 42.17658\"\n",
      "}\n",
      "```\u001b[0m\n",
      "\n",
      "\u001b[1m> Finished chain.\u001b[0m\n"
     ]
    },
    {
     "data": {
      "text/plain": [
       "{'input': 'What is the meaning of life?',\n",
       " 'chat_history': [HumanMessage(content='Can you give me a random number?'),\n",
       "  AIMessage(content='The response to your last comment was 0.'),\n",
       "  HumanMessage(content='What is the meaning of life?'),\n",
       "  AIMessage(content='The response to your last comment was 0.'),\n",
       "  HumanMessage(content='What is the meaning of life?'),\n",
       "  AIMessage(content='The meaning of life is a philosophical question that has been debated for centuries. Different cultures, religions, and individuals have varying beliefs and interpretations about the purpose and significance of life. Some believe it is about seeking happiness and fulfillment, others see it as a journey of spiritual growth and enlightenment, while some view it as a quest for knowledge and understanding. Ultimately, the meaning of life is a deeply personal and subjective concept that each individual may interpret in their own way.')],\n",
       " 'output': 'The meaning of life is 42 if rounded but is actually 42.17658'}"
      ]
     },
     "execution_count": 40,
     "metadata": {},
     "output_type": "execute_result"
    }
   ],
   "source": [
    "conversational_agent(\"What is the meaning of life?\")"
   ]
  },
  {
   "cell_type": "code",
   "execution_count": null,
   "id": "a82b2cab-012d-4fda-b59f-60451d73f85e",
   "metadata": {},
   "outputs": [],
   "source": []
  }
 ],
 "metadata": {
  "kernelspec": {
   "display_name": "llm-agents",
   "language": "python",
   "name": "llm-agents"
  },
  "language_info": {
   "codemirror_mode": {
    "name": "ipython",
    "version": 3
   },
   "file_extension": ".py",
   "mimetype": "text/x-python",
   "name": "python",
   "nbconvert_exporter": "python",
   "pygments_lexer": "ipython3",
   "version": "3.10.12"
  }
 },
 "nbformat": 4,
 "nbformat_minor": 5
}
